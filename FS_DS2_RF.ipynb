{
  "nbformat": 4,
  "nbformat_minor": 0,
  "metadata": {
    "colab": {
      "provenance": [],
      "authorship_tag": "ABX9TyNJhweyNSkEuzt7WQfcz++n",
      "include_colab_link": true
    },
    "kernelspec": {
      "name": "python3",
      "display_name": "Python 3"
    },
    "language_info": {
      "name": "python"
    }
  },
  "cells": [
    {
      "cell_type": "markdown",
      "metadata": {
        "id": "view-in-github",
        "colab_type": "text"
      },
      "source": [
        "<a href=\"https://colab.research.google.com/github/yunisroni/ilmudataproject/blob/main/FS_DS2_RF.ipynb\" target=\"_parent\"><img src=\"https://colab.research.google.com/assets/colab-badge.svg\" alt=\"Open In Colab\"/></a>"
      ]
    },
    {
      "cell_type": "code",
      "execution_count": 1,
      "metadata": {
        "colab": {
          "base_uri": "https://localhost:8080/"
        },
        "collapsed": true,
        "id": "7-YwpE20y_gM",
        "outputId": "6ef75c6d-b079-4231-a416-25181f2e01cd"
      },
      "outputs": [
        {
          "output_type": "stream",
          "name": "stdout",
          "text": [
            "Collecting ucimlrepo\n",
            "  Downloading ucimlrepo-0.0.7-py3-none-any.whl.metadata (5.5 kB)\n",
            "Requirement already satisfied: pandas>=1.0.0 in /usr/local/lib/python3.10/dist-packages (from ucimlrepo) (2.2.2)\n",
            "Requirement already satisfied: certifi>=2020.12.5 in /usr/local/lib/python3.10/dist-packages (from ucimlrepo) (2024.8.30)\n",
            "Requirement already satisfied: numpy>=1.22.4 in /usr/local/lib/python3.10/dist-packages (from pandas>=1.0.0->ucimlrepo) (1.26.4)\n",
            "Requirement already satisfied: python-dateutil>=2.8.2 in /usr/local/lib/python3.10/dist-packages (from pandas>=1.0.0->ucimlrepo) (2.8.2)\n",
            "Requirement already satisfied: pytz>=2020.1 in /usr/local/lib/python3.10/dist-packages (from pandas>=1.0.0->ucimlrepo) (2024.2)\n",
            "Requirement already satisfied: tzdata>=2022.7 in /usr/local/lib/python3.10/dist-packages (from pandas>=1.0.0->ucimlrepo) (2024.2)\n",
            "Requirement already satisfied: six>=1.5 in /usr/local/lib/python3.10/dist-packages (from python-dateutil>=2.8.2->pandas>=1.0.0->ucimlrepo) (1.16.0)\n",
            "Downloading ucimlrepo-0.0.7-py3-none-any.whl (8.0 kB)\n",
            "Installing collected packages: ucimlrepo\n",
            "Successfully installed ucimlrepo-0.0.7\n"
          ]
        }
      ],
      "source": [
        "!pip install ucimlrepo"
      ]
    },
    {
      "cell_type": "code",
      "source": [
        "# Dataset https://archive.ics.uci.edu/dataset/17/breast+cancer+wisconsin+diagnostic\n",
        "\n",
        "from ucimlrepo import fetch_ucirepo\n",
        "\n",
        "# fetch dataset\n",
        "breast_cancer_wisconsin_diagnostic = fetch_ucirepo(id=17)\n",
        "\n",
        "# data (as pandas dataframes)\n",
        "X = breast_cancer_wisconsin_diagnostic.data.features\n",
        "y = breast_cancer_wisconsin_diagnostic.data.targets\n",
        "\n",
        "# metadata\n",
        "print(breast_cancer_wisconsin_diagnostic.metadata)\n",
        "\n",
        "# variable information\n",
        "print(breast_cancer_wisconsin_diagnostic.variables)\n"
      ],
      "metadata": {
        "colab": {
          "base_uri": "https://localhost:8080/"
        },
        "id": "gAhFP2mFzPC5",
        "outputId": "ccb3e023-0194-48c2-cdbb-72d0524f5617"
      },
      "execution_count": 2,
      "outputs": [
        {
          "output_type": "stream",
          "name": "stdout",
          "text": [
            "{'uci_id': 17, 'name': 'Breast Cancer Wisconsin (Diagnostic)', 'repository_url': 'https://archive.ics.uci.edu/dataset/17/breast+cancer+wisconsin+diagnostic', 'data_url': 'https://archive.ics.uci.edu/static/public/17/data.csv', 'abstract': 'Diagnostic Wisconsin Breast Cancer Database.', 'area': 'Health and Medicine', 'tasks': ['Classification'], 'characteristics': ['Multivariate'], 'num_instances': 569, 'num_features': 30, 'feature_types': ['Real'], 'demographics': [], 'target_col': ['Diagnosis'], 'index_col': ['ID'], 'has_missing_values': 'no', 'missing_values_symbol': None, 'year_of_dataset_creation': 1993, 'last_updated': 'Fri Nov 03 2023', 'dataset_doi': '10.24432/C5DW2B', 'creators': ['William Wolberg', 'Olvi Mangasarian', 'Nick Street', 'W. Street'], 'intro_paper': {'ID': 230, 'type': 'NATIVE', 'title': 'Nuclear feature extraction for breast tumor diagnosis', 'authors': 'W. Street, W. Wolberg, O. Mangasarian', 'venue': 'Electronic imaging', 'year': 1993, 'journal': None, 'DOI': '10.1117/12.148698', 'URL': 'https://www.semanticscholar.org/paper/53f0fbb425bc14468eb3bf96b2e1d41ba8087f36', 'sha': None, 'corpus': None, 'arxiv': None, 'mag': None, 'acl': None, 'pmid': None, 'pmcid': None}, 'additional_info': {'summary': 'Features are computed from a digitized image of a fine needle aspirate (FNA) of a breast mass.  They describe characteristics of the cell nuclei present in the image. A few of the images can be found at http://www.cs.wisc.edu/~street/images/\\r\\n\\r\\nSeparating plane described above was obtained using Multisurface Method-Tree (MSM-T) [K. P. Bennett, \"Decision Tree Construction Via Linear Programming.\" Proceedings of the 4th Midwest Artificial Intelligence and Cognitive Science Society, pp. 97-101, 1992], a classification method which uses linear programming to construct a decision tree.  Relevant features were selected using an exhaustive search in the space of 1-4 features and 1-3 separating planes.\\r\\n\\r\\nThe actual linear program used to obtain the separating plane in the 3-dimensional space is that described in: [K. P. Bennett and O. L. Mangasarian: \"Robust Linear Programming Discrimination of Two Linearly Inseparable Sets\", Optimization Methods and Software 1, 1992, 23-34].\\r\\n\\r\\nThis database is also available through the UW CS ftp server:\\r\\nftp ftp.cs.wisc.edu\\r\\ncd math-prog/cpo-dataset/machine-learn/WDBC/', 'purpose': None, 'funded_by': None, 'instances_represent': None, 'recommended_data_splits': None, 'sensitive_data': None, 'preprocessing_description': None, 'variable_info': '1) ID number\\r\\n2) Diagnosis (M = malignant, B = benign)\\r\\n3-32)\\r\\n\\r\\nTen real-valued features are computed for each cell nucleus:\\r\\n\\r\\n\\ta) radius (mean of distances from center to points on the perimeter)\\r\\n\\tb) texture (standard deviation of gray-scale values)\\r\\n\\tc) perimeter\\r\\n\\td) area\\r\\n\\te) smoothness (local variation in radius lengths)\\r\\n\\tf) compactness (perimeter^2 / area - 1.0)\\r\\n\\tg) concavity (severity of concave portions of the contour)\\r\\n\\th) concave points (number of concave portions of the contour)\\r\\n\\ti) symmetry \\r\\n\\tj) fractal dimension (\"coastline approximation\" - 1)', 'citation': None}}\n",
            "                  name     role         type demographic description units  \\\n",
            "0                   ID       ID  Categorical        None        None  None   \n",
            "1            Diagnosis   Target  Categorical        None        None  None   \n",
            "2              radius1  Feature   Continuous        None        None  None   \n",
            "3             texture1  Feature   Continuous        None        None  None   \n",
            "4           perimeter1  Feature   Continuous        None        None  None   \n",
            "5                area1  Feature   Continuous        None        None  None   \n",
            "6          smoothness1  Feature   Continuous        None        None  None   \n",
            "7         compactness1  Feature   Continuous        None        None  None   \n",
            "8           concavity1  Feature   Continuous        None        None  None   \n",
            "9      concave_points1  Feature   Continuous        None        None  None   \n",
            "10           symmetry1  Feature   Continuous        None        None  None   \n",
            "11  fractal_dimension1  Feature   Continuous        None        None  None   \n",
            "12             radius2  Feature   Continuous        None        None  None   \n",
            "13            texture2  Feature   Continuous        None        None  None   \n",
            "14          perimeter2  Feature   Continuous        None        None  None   \n",
            "15               area2  Feature   Continuous        None        None  None   \n",
            "16         smoothness2  Feature   Continuous        None        None  None   \n",
            "17        compactness2  Feature   Continuous        None        None  None   \n",
            "18          concavity2  Feature   Continuous        None        None  None   \n",
            "19     concave_points2  Feature   Continuous        None        None  None   \n",
            "20           symmetry2  Feature   Continuous        None        None  None   \n",
            "21  fractal_dimension2  Feature   Continuous        None        None  None   \n",
            "22             radius3  Feature   Continuous        None        None  None   \n",
            "23            texture3  Feature   Continuous        None        None  None   \n",
            "24          perimeter3  Feature   Continuous        None        None  None   \n",
            "25               area3  Feature   Continuous        None        None  None   \n",
            "26         smoothness3  Feature   Continuous        None        None  None   \n",
            "27        compactness3  Feature   Continuous        None        None  None   \n",
            "28          concavity3  Feature   Continuous        None        None  None   \n",
            "29     concave_points3  Feature   Continuous        None        None  None   \n",
            "30           symmetry3  Feature   Continuous        None        None  None   \n",
            "31  fractal_dimension3  Feature   Continuous        None        None  None   \n",
            "\n",
            "   missing_values  \n",
            "0              no  \n",
            "1              no  \n",
            "2              no  \n",
            "3              no  \n",
            "4              no  \n",
            "5              no  \n",
            "6              no  \n",
            "7              no  \n",
            "8              no  \n",
            "9              no  \n",
            "10             no  \n",
            "11             no  \n",
            "12             no  \n",
            "13             no  \n",
            "14             no  \n",
            "15             no  \n",
            "16             no  \n",
            "17             no  \n",
            "18             no  \n",
            "19             no  \n",
            "20             no  \n",
            "21             no  \n",
            "22             no  \n",
            "23             no  \n",
            "24             no  \n",
            "25             no  \n",
            "26             no  \n",
            "27             no  \n",
            "28             no  \n",
            "29             no  \n",
            "30             no  \n",
            "31             no  \n"
          ]
        }
      ]
    },
    {
      "cell_type": "code",
      "source": [
        "import pandas as pd\n",
        "\n",
        "# Create data.frame\n",
        "df = pd.concat([X, y], axis=1)\n",
        "df.info()"
      ],
      "metadata": {
        "colab": {
          "base_uri": "https://localhost:8080/"
        },
        "id": "RlkXAaUszS1f",
        "outputId": "905361bf-ac74-4e77-87b2-d520963fcc7d"
      },
      "execution_count": 3,
      "outputs": [
        {
          "output_type": "stream",
          "name": "stdout",
          "text": [
            "<class 'pandas.core.frame.DataFrame'>\n",
            "RangeIndex: 569 entries, 0 to 568\n",
            "Data columns (total 31 columns):\n",
            " #   Column              Non-Null Count  Dtype  \n",
            "---  ------              --------------  -----  \n",
            " 0   radius1             569 non-null    float64\n",
            " 1   texture1            569 non-null    float64\n",
            " 2   perimeter1          569 non-null    float64\n",
            " 3   area1               569 non-null    float64\n",
            " 4   smoothness1         569 non-null    float64\n",
            " 5   compactness1        569 non-null    float64\n",
            " 6   concavity1          569 non-null    float64\n",
            " 7   concave_points1     569 non-null    float64\n",
            " 8   symmetry1           569 non-null    float64\n",
            " 9   fractal_dimension1  569 non-null    float64\n",
            " 10  radius2             569 non-null    float64\n",
            " 11  texture2            569 non-null    float64\n",
            " 12  perimeter2          569 non-null    float64\n",
            " 13  area2               569 non-null    float64\n",
            " 14  smoothness2         569 non-null    float64\n",
            " 15  compactness2        569 non-null    float64\n",
            " 16  concavity2          569 non-null    float64\n",
            " 17  concave_points2     569 non-null    float64\n",
            " 18  symmetry2           569 non-null    float64\n",
            " 19  fractal_dimension2  569 non-null    float64\n",
            " 20  radius3             569 non-null    float64\n",
            " 21  texture3            569 non-null    float64\n",
            " 22  perimeter3          569 non-null    float64\n",
            " 23  area3               569 non-null    float64\n",
            " 24  smoothness3         569 non-null    float64\n",
            " 25  compactness3        569 non-null    float64\n",
            " 26  concavity3          569 non-null    float64\n",
            " 27  concave_points3     569 non-null    float64\n",
            " 28  symmetry3           569 non-null    float64\n",
            " 29  fractal_dimension3  569 non-null    float64\n",
            " 30  Diagnosis           569 non-null    object \n",
            "dtypes: float64(30), object(1)\n",
            "memory usage: 137.9+ KB\n"
          ]
        }
      ]
    },
    {
      "cell_type": "code",
      "source": [
        "# Periksa isi kolom Diagnosis\n",
        "\n",
        "print(df['Diagnosis'].unique())"
      ],
      "metadata": {
        "colab": {
          "base_uri": "https://localhost:8080/"
        },
        "id": "6GFqZYlFzWyF",
        "outputId": "433bab43-1089-44a8-cf08-5c9c259ff2dc"
      },
      "execution_count": 4,
      "outputs": [
        {
          "output_type": "stream",
          "name": "stdout",
          "text": [
            "['M' 'B']\n"
          ]
        }
      ]
    },
    {
      "cell_type": "code",
      "source": [
        "# Konversi nilai Diagnosis menjadi numerik\n",
        "diagnosis_mapping = {'M': 1, 'B': 0}\n",
        "df['Diagnosis'] = df['Diagnosis'].map(diagnosis_mapping)\n",
        "\n",
        "# Periksa kembali isi kolom Diagnosis setelah konversi\n",
        "print(df['Diagnosis'].unique())"
      ],
      "metadata": {
        "colab": {
          "base_uri": "https://localhost:8080/"
        },
        "id": "gctFiwKLzZiZ",
        "outputId": "cc1fddda-e2f0-4fdd-bd88-87d03accff5f"
      },
      "execution_count": 5,
      "outputs": [
        {
          "output_type": "stream",
          "name": "stdout",
          "text": [
            "[1 0]\n"
          ]
        }
      ]
    },
    {
      "cell_type": "code",
      "source": [
        "df.info()"
      ],
      "metadata": {
        "colab": {
          "base_uri": "https://localhost:8080/"
        },
        "id": "tI60UB15za1U",
        "outputId": "afe98b82-d867-4101-d5be-bcf1da9e2ee6"
      },
      "execution_count": 6,
      "outputs": [
        {
          "output_type": "stream",
          "name": "stdout",
          "text": [
            "<class 'pandas.core.frame.DataFrame'>\n",
            "RangeIndex: 569 entries, 0 to 568\n",
            "Data columns (total 31 columns):\n",
            " #   Column              Non-Null Count  Dtype  \n",
            "---  ------              --------------  -----  \n",
            " 0   radius1             569 non-null    float64\n",
            " 1   texture1            569 non-null    float64\n",
            " 2   perimeter1          569 non-null    float64\n",
            " 3   area1               569 non-null    float64\n",
            " 4   smoothness1         569 non-null    float64\n",
            " 5   compactness1        569 non-null    float64\n",
            " 6   concavity1          569 non-null    float64\n",
            " 7   concave_points1     569 non-null    float64\n",
            " 8   symmetry1           569 non-null    float64\n",
            " 9   fractal_dimension1  569 non-null    float64\n",
            " 10  radius2             569 non-null    float64\n",
            " 11  texture2            569 non-null    float64\n",
            " 12  perimeter2          569 non-null    float64\n",
            " 13  area2               569 non-null    float64\n",
            " 14  smoothness2         569 non-null    float64\n",
            " 15  compactness2        569 non-null    float64\n",
            " 16  concavity2          569 non-null    float64\n",
            " 17  concave_points2     569 non-null    float64\n",
            " 18  symmetry2           569 non-null    float64\n",
            " 19  fractal_dimension2  569 non-null    float64\n",
            " 20  radius3             569 non-null    float64\n",
            " 21  texture3            569 non-null    float64\n",
            " 22  perimeter3          569 non-null    float64\n",
            " 23  area3               569 non-null    float64\n",
            " 24  smoothness3         569 non-null    float64\n",
            " 25  compactness3        569 non-null    float64\n",
            " 26  concavity3          569 non-null    float64\n",
            " 27  concave_points3     569 non-null    float64\n",
            " 28  symmetry3           569 non-null    float64\n",
            " 29  fractal_dimension3  569 non-null    float64\n",
            " 30  Diagnosis           569 non-null    int64  \n",
            "dtypes: float64(30), int64(1)\n",
            "memory usage: 137.9 KB\n"
          ]
        }
      ]
    },
    {
      "cell_type": "code",
      "source": [
        "# Hitung nilai shannon entropy dari masing-masing variabel\n",
        "\n",
        "import numpy as np\n",
        "\n",
        "def shannon_entropy(data):\n",
        "  \"\"\"Hitung nilai Shannon entropy dari data.\n",
        "\n",
        "  Args:\n",
        "    data: Data yang akan dihitung entropy-nya.\n",
        "\n",
        "  Returns:\n",
        "    Nilai Shannon entropy.\n",
        "  \"\"\"\n",
        "  value, counts = np.unique(data, return_counts=True)\n",
        "  probabilities = counts / counts.sum()\n",
        "  entropy = -np.sum(probabilities * np.log2(probabilities))\n",
        "  return entropy\n",
        "\n",
        "# Hitung entropy untuk setiap kolom\n",
        "for column in df.columns:\n",
        "  entropy = shannon_entropy(df[column])\n",
        "  print(f\"Shannon entropy untuk variabel '{column}': {entropy}\")"
      ],
      "metadata": {
        "colab": {
          "base_uri": "https://localhost:8080/"
        },
        "id": "3N96Mh6WzetY",
        "outputId": "b1a1334c-b291-436c-a71e-242fcf4c8ae3"
      },
      "execution_count": 7,
      "outputs": [
        {
          "output_type": "stream",
          "name": "stdout",
          "text": [
            "Shannon entropy untuk variabel 'radius1': 8.733008172657566\n",
            "Shannon entropy untuk variabel 'texture1': 8.824000154223153\n",
            "Shannon entropy untuk variabel 'perimeter1': 8.983102658639638\n",
            "Shannon entropy untuk variabel 'area1': 9.045509996081337\n",
            "Shannon entropy untuk variabel 'smoothness1': 8.78024997322213\n",
            "Shannon entropy untuk variabel 'compactness1': 9.037153427536234\n",
            "Shannon entropy untuk variabel 'concavity1': 8.99611506403242\n",
            "Shannon entropy untuk variabel 'concave_points1': 9.013689756475301\n",
            "Shannon entropy untuk variabel 'symmetry1': 8.62397636243383\n",
            "Shannon entropy untuk variabel 'fractal_dimension1': 8.89960569026648\n",
            "Shannon entropy untuk variabel 'radius2': 9.047698243001964\n",
            "Shannon entropy untuk variabel 'texture2': 8.97123115160596\n",
            "Shannon entropy untuk variabel 'perimeter2': 9.022232118229253\n",
            "Shannon entropy untuk variabel 'area2': 9.002865598003147\n",
            "Shannon entropy untuk variabel 'smoothness2': 9.074956195557899\n",
            "Shannon entropy untuk variabel 'compactness2': 9.049886489922592\n",
            "Shannon entropy untuk variabel 'concavity2': 8.983382001646063\n",
            "Shannon entropy untuk variabel 'concave_points2': 8.888013526239227\n",
            "Shannon entropy untuk variabel 'symmetry2': 8.88859573858548\n",
            "Shannon entropy untuk variabel 'fractal_dimension2': 9.067926318580746\n",
            "Shannon entropy untuk variabel 'radius3': 8.718704191133106\n",
            "Shannon entropy untuk variabel 'texture3': 8.945765026833246\n",
            "Shannon entropy untuk variabel 'perimeter3': 8.954983150731028\n",
            "Shannon entropy untuk variabel 'area3': 9.064411380092169\n",
            "Shannon entropy untuk variabel 'smoothness3': 8.541409666491216\n",
            "Shannon entropy untuk variabel 'compactness3': 9.009033919627623\n",
            "Shannon entropy untuk variabel 'concavity3': 9.001818249441623\n",
            "Shannon entropy untuk variabel 'concave_points3': 8.82732929950288\n",
            "Shannon entropy untuk variabel 'symmetry3': 8.901793937187106\n",
            "Shannon entropy untuk variabel 'fractal_dimension3': 9.031450242127033\n",
            "Shannon entropy untuk variabel 'Diagnosis': 0.9526351224018599\n"
          ]
        }
      ]
    },
    {
      "cell_type": "code",
      "source": [
        "# Normalisasi nilai Shannon entropy\n",
        "normalized_entropies = []\n",
        "for column in df.columns:\n",
        "  entropy = shannon_entropy(df[column])\n",
        "  n = len(df[column])  # Panjang data dalam kolom\n",
        "  normalized_entropy = entropy / np.log2(n) if np.log2(n) != 0 else 0  # Normalisasi dengan log2(n)\n",
        "\n",
        "  normalized_entropies.append(normalized_entropy)\n",
        "\n",
        "\n",
        "average_normalized_entropy = np.mean(normalized_entropies)\n",
        "print(f\"\\nRata-rata Normalized Shannon Entropy: {average_normalized_entropy}\")"
      ],
      "metadata": {
        "colab": {
          "base_uri": "https://localhost:8080/"
        },
        "id": "sRD1UnFAzie_",
        "outputId": "57606b48-0789-4611-fa32-aa35b17c6e1a"
      },
      "execution_count": 8,
      "outputs": [
        {
          "output_type": "stream",
          "name": "stdout",
          "text": [
            "\n",
            "Rata-rata Normalized Shannon Entropy: 0.947701064870129\n"
          ]
        }
      ]
    },
    {
      "cell_type": "code",
      "source": [
        "# Seleksi fitur dalam df dengan chi-squared\n",
        "\n",
        "from sklearn.feature_selection import chi2\n",
        "\n",
        "# Pisahkan fitur (X) dan target (y)\n",
        "X = df.drop('Diagnosis', axis=1)  # mengambil semua kolom kecuali variabel Diagnosis\n",
        "y = df['Diagnosis']\n",
        "\n",
        "# Hitung statistik chi-squared dan p-value\n",
        "chi2_scores, p_values = chi2(X, y)\n",
        "\n",
        "# Buat DataFrame untuk menyimpan hasil\n",
        "results = pd.DataFrame({'Feature': X.columns, 'Chi2 Score': chi2_scores, 'P-value': p_values})\n",
        "\n",
        "# Urutkan berdasarkan Chi2 Score (dari yang terbesar)\n",
        "results = results.sort_values('Chi2 Score', ascending=False)\n",
        "\n",
        "# Tampilkan hasil\n",
        "print(results)\n",
        "\n",
        "# Simpan fitur dengan skor Chi2 di atas threshold\n",
        "threshold = 10  # nilai ambang batas\n",
        "selected_features_chi = results[results['Chi2 Score'] > threshold]['Feature'].tolist()\n",
        "\n",
        "print(f\"\\nFitur yang terpilih menggunakan chi-squared: {selected_features_chi}\")"
      ],
      "metadata": {
        "colab": {
          "base_uri": "https://localhost:8080/"
        },
        "id": "jvDs8FX7zlv2",
        "outputId": "72b9c65d-73b0-4790-f10f-eddd23cb239a"
      },
      "execution_count": 9,
      "outputs": [
        {
          "output_type": "stream",
          "name": "stdout",
          "text": [
            "               Feature     Chi2 Score        P-value\n",
            "23               area3  112598.431564   0.000000e+00\n",
            "3                area1   53991.655924   0.000000e+00\n",
            "13               area2    8758.504705   0.000000e+00\n",
            "22          perimeter3    3665.035416   0.000000e+00\n",
            "2           perimeter1    2011.102864   0.000000e+00\n",
            "20             radius3     491.689157  6.113248e-109\n",
            "0              radius1     266.104917   8.013976e-60\n",
            "12          perimeter2     250.571896   1.948775e-56\n",
            "21            texture3     174.449400   7.896683e-40\n",
            "1             texture1      93.897508   3.322922e-22\n",
            "26          concavity3      39.516915   3.252301e-10\n",
            "10             radius2      34.675247   3.895534e-09\n",
            "6           concavity1      19.712354   9.001757e-06\n",
            "25        compactness3      19.314922   1.108368e-05\n",
            "27     concave_points3      13.485419   2.404244e-04\n",
            "7      concave_points1      10.544035   1.165636e-03\n",
            "5         compactness1       5.403075   2.010130e-02\n",
            "28           symmetry3       1.298861   2.544213e-01\n",
            "16          concavity2       1.044718   3.067268e-01\n",
            "15        compactness2       0.613785   4.333661e-01\n",
            "24         smoothness3       0.397366   5.284529e-01\n",
            "17     concave_points2       0.305232   5.806211e-01\n",
            "8            symmetry1       0.257380   6.119260e-01\n",
            "29  fractal_dimension3       0.231522   6.303973e-01\n",
            "4          smoothness1       0.149899   6.986316e-01\n",
            "11            texture2       0.009794   9.211682e-01\n",
            "19  fractal_dimension2       0.006371   9.363798e-01\n",
            "14         smoothness2       0.003266   9.544251e-01\n",
            "18           symmetry2       0.000080   9.928474e-01\n",
            "9   fractal_dimension1       0.000074   9.931222e-01\n",
            "\n",
            "Fitur yang terpilih menggunakan chi-squared: ['area3', 'area1', 'area2', 'perimeter3', 'perimeter1', 'radius3', 'radius1', 'perimeter2', 'texture3', 'texture1', 'concavity3', 'radius2', 'concavity1', 'compactness3', 'concave_points3', 'concave_points1']\n"
          ]
        }
      ]
    },
    {
      "cell_type": "code",
      "source": [
        "# Seleksi fitur dalam df dengan Random Forest\n",
        "\n",
        "from sklearn.ensemble import RandomForestClassifier\n",
        "from sklearn.feature_selection import SelectFromModel\n",
        "\n",
        "# Pisahkan fitur (X) dan target (y)\n",
        "X = df.drop('Diagnosis', axis=1)  # mengambil semua kolom kecuali variabel Diagnosis\n",
        "y = df['Diagnosis']\n",
        "\n",
        "# Inisialisasi model Random Forest\n",
        "rf_model = RandomForestClassifier(n_estimators=100, random_state=42)\n",
        "\n",
        "# Latih model Random Forest\n",
        "rf_model.fit(X, y)\n",
        "\n",
        "# Seleksi fitur menggunakan SelectFromModel\n",
        "selector = SelectFromModel(estimator=rf_model, threshold='median') # threshold dengan median\n",
        "selector.fit(X, y)\n",
        "\n",
        "# Simpan fitur-fitur yang terpilih\n",
        "selected_features_rf = X.columns[selector.get_support()]\n",
        "\n",
        "print(f\"Fitur yang terpilih menggunakan Random Forest: {selected_features_rf.tolist()}\")"
      ],
      "metadata": {
        "colab": {
          "base_uri": "https://localhost:8080/"
        },
        "id": "KYsijvkWzpJn",
        "outputId": "b8fb5fcb-cf04-4cd9-cc98-aed282bec51b"
      },
      "execution_count": 10,
      "outputs": [
        {
          "output_type": "stream",
          "name": "stdout",
          "text": [
            "Fitur yang terpilih menggunakan Random Forest: ['radius1', 'texture1', 'perimeter1', 'area1', 'concavity1', 'concave_points1', 'radius2', 'area2', 'radius3', 'texture3', 'perimeter3', 'area3', 'compactness3', 'concavity3', 'concave_points3']\n"
          ]
        }
      ]
    },
    {
      "cell_type": "code",
      "source": [
        "# Klasifikasi dengan model XGBoost untuk selected_features_rf\n",
        "\n",
        "from sklearn.model_selection import train_test_split\n",
        "from xgboost import XGBClassifier\n",
        "from sklearn.metrics import accuracy_score, classification_report\n",
        "\n",
        "# Mengambil Fitur dari RF\n",
        "selected_features = selected_features_rf\n",
        "X_selected = X[selected_features]\n",
        "\n",
        "# Ubah nilai y menjadi 0 dan 1\n",
        "y = np.where(y == 1, 0, 1)\n",
        "\n",
        "# Bagi data menjadi data latih dan data uji\n",
        "X_train, X_test, y_train, y_test = train_test_split(X_selected, y, test_size=0.2, random_state=42)\n",
        "\n",
        "# Inisialisasi model XGBoost\n",
        "model = XGBClassifier()\n",
        "\n",
        "# Latih model dengan training data\n",
        "model.fit(X_train, y_train)\n",
        "\n",
        "# Lakukan prediksi dengan test data\n",
        "y_pred = model.predict(X_test)\n",
        "\n",
        "# Evaluasi performa model\n",
        "# accuracy = accuracy_score(y_test, y_pred)\n",
        "print(\"Hasil Cofusion Matrix RF dan XGB:\")\n",
        "print(classification_report(y_test, y_pred))"
      ],
      "metadata": {
        "colab": {
          "base_uri": "https://localhost:8080/"
        },
        "id": "mii3xsXaz2ZD",
        "outputId": "fc4c31ec-ee8c-4a3d-b886-266745ba9b57"
      },
      "execution_count": 11,
      "outputs": [
        {
          "output_type": "stream",
          "name": "stdout",
          "text": [
            "Hasil Cofusion Matrix RF dan XGB:\n",
            "              precision    recall  f1-score   support\n",
            "\n",
            "           0       0.95      0.93      0.94        43\n",
            "           1       0.96      0.97      0.97        71\n",
            "\n",
            "    accuracy                           0.96       114\n",
            "   macro avg       0.96      0.95      0.95       114\n",
            "weighted avg       0.96      0.96      0.96       114\n",
            "\n"
          ]
        }
      ]
    },
    {
      "cell_type": "code",
      "source": [
        "# Klasifikasi dengan model Naive Bayes untuk selected_features_rf\n",
        "\n",
        "from sklearn.naive_bayes import GaussianNB\n",
        "\n",
        "# Mengambil Fitur dari RF\n",
        "selected_features = selected_features_rf\n",
        "X_selected = X[selected_features]\n",
        "\n",
        "# Bagi data menjadi data latih dan data uji\n",
        "X_train, X_test, y_train, y_test = train_test_split(X_selected, y, test_size=0.2, random_state=42)\n",
        "\n",
        "# Inisialisasi model Naive Bayes\n",
        "model = GaussianNB()\n",
        "\n",
        "# Latih model dengan training data\n",
        "model.fit(X_train, y_train)\n",
        "\n",
        "# Lakukan prediksi dengan test data\n",
        "y_pred = model.predict(X_test)\n",
        "\n",
        "# Evaluasi performa model\n",
        "# accuracy = accuracy_score(y_test, y_pred)\n",
        "print(\"Hasil Cofusion Matrix RF dan NB:\")\n",
        "print(classification_report(y_test, y_pred))"
      ],
      "metadata": {
        "colab": {
          "base_uri": "https://localhost:8080/"
        },
        "id": "xlawyUwB0DOs",
        "outputId": "e9245919-d1bc-4256-c7e6-e390fd018416"
      },
      "execution_count": 12,
      "outputs": [
        {
          "output_type": "stream",
          "name": "stdout",
          "text": [
            "Hasil Cofusion Matrix RF dan NB:\n",
            "              precision    recall  f1-score   support\n",
            "\n",
            "           0       1.00      0.93      0.96        43\n",
            "           1       0.96      1.00      0.98        71\n",
            "\n",
            "    accuracy                           0.97       114\n",
            "   macro avg       0.98      0.97      0.97       114\n",
            "weighted avg       0.97      0.97      0.97       114\n",
            "\n"
          ]
        }
      ]
    }
  ]
}