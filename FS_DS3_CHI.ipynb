{
  "nbformat": 4,
  "nbformat_minor": 0,
  "metadata": {
    "colab": {
      "provenance": [],
      "authorship_tag": "ABX9TyNvOErL1iibTG36mmXxhstx",
      "include_colab_link": true
    },
    "kernelspec": {
      "name": "python3",
      "display_name": "Python 3"
    },
    "language_info": {
      "name": "python"
    }
  },
  "cells": [
    {
      "cell_type": "markdown",
      "metadata": {
        "id": "view-in-github",
        "colab_type": "text"
      },
      "source": [
        "<a href=\"https://colab.research.google.com/github/yunisroni/ilmudataproject/blob/main/FS_DS3_CHI.ipynb\" target=\"_parent\"><img src=\"https://colab.research.google.com/assets/colab-badge.svg\" alt=\"Open In Colab\"/></a>"
      ]
    },
    {
      "cell_type": "code",
      "execution_count": 1,
      "metadata": {
        "colab": {
          "base_uri": "https://localhost:8080/"
        },
        "collapsed": true,
        "id": "_1zb3Mtm1uPC",
        "outputId": "28fa20a1-872a-4ad5-b5e9-6d4e8c383ae3"
      },
      "outputs": [
        {
          "output_type": "stream",
          "name": "stdout",
          "text": [
            "Collecting ucimlrepo\n",
            "  Downloading ucimlrepo-0.0.7-py3-none-any.whl.metadata (5.5 kB)\n",
            "Requirement already satisfied: pandas>=1.0.0 in /usr/local/lib/python3.10/dist-packages (from ucimlrepo) (2.2.2)\n",
            "Requirement already satisfied: certifi>=2020.12.5 in /usr/local/lib/python3.10/dist-packages (from ucimlrepo) (2024.8.30)\n",
            "Requirement already satisfied: numpy>=1.22.4 in /usr/local/lib/python3.10/dist-packages (from pandas>=1.0.0->ucimlrepo) (1.26.4)\n",
            "Requirement already satisfied: python-dateutil>=2.8.2 in /usr/local/lib/python3.10/dist-packages (from pandas>=1.0.0->ucimlrepo) (2.8.2)\n",
            "Requirement already satisfied: pytz>=2020.1 in /usr/local/lib/python3.10/dist-packages (from pandas>=1.0.0->ucimlrepo) (2024.2)\n",
            "Requirement already satisfied: tzdata>=2022.7 in /usr/local/lib/python3.10/dist-packages (from pandas>=1.0.0->ucimlrepo) (2024.2)\n",
            "Requirement already satisfied: six>=1.5 in /usr/local/lib/python3.10/dist-packages (from python-dateutil>=2.8.2->pandas>=1.0.0->ucimlrepo) (1.16.0)\n",
            "Downloading ucimlrepo-0.0.7-py3-none-any.whl (8.0 kB)\n",
            "Installing collected packages: ucimlrepo\n",
            "Successfully installed ucimlrepo-0.0.7\n"
          ]
        }
      ],
      "source": [
        "!pip install ucimlrepo"
      ]
    },
    {
      "cell_type": "code",
      "source": [
        "# Dataset https://archive.ics.uci.edu/dataset/78/page+blocks+classification\n",
        "\n",
        "from ucimlrepo import fetch_ucirepo\n",
        "\n",
        "# fetch dataset\n",
        "page_blocks_classification = fetch_ucirepo(id=78)\n",
        "\n",
        "# data (as pandas dataframes)\n",
        "X = page_blocks_classification.data.features\n",
        "y = page_blocks_classification.data.targets\n",
        "\n",
        "# metadata\n",
        "print(page_blocks_classification.metadata)\n",
        "\n",
        "# variable information\n",
        "print(page_blocks_classification.variables)\n"
      ],
      "metadata": {
        "colab": {
          "base_uri": "https://localhost:8080/"
        },
        "id": "44v_OO_p11EN",
        "outputId": "777ab811-98b8-41df-edc7-776fcc18c1f3"
      },
      "execution_count": 60,
      "outputs": [
        {
          "output_type": "stream",
          "name": "stdout",
          "text": [
            "{'uci_id': 78, 'name': 'Page Blocks Classification', 'repository_url': 'https://archive.ics.uci.edu/dataset/78/page+blocks+classification', 'data_url': 'https://archive.ics.uci.edu/static/public/78/data.csv', 'abstract': 'The problem consists of classifying all the blocks of the page layout of a document that has been detected by a segmentation process.', 'area': 'Computer Science', 'tasks': ['Classification'], 'characteristics': ['Multivariate'], 'num_instances': 5473, 'num_features': 10, 'feature_types': ['Integer', 'Real'], 'demographics': [], 'target_col': ['class'], 'index_col': None, 'has_missing_values': 'no', 'missing_values_symbol': None, 'year_of_dataset_creation': 1994, 'last_updated': 'Fri Mar 15 2024', 'dataset_doi': '10.24432/C5J590', 'creators': ['Donato Malerba'], 'intro_paper': None, 'additional_info': {'summary': 'The 5473 examples comes from 54 distinct documents. Each observation concerns one block. All attributes are numeric. Data are in a format readable by C4.5.', 'purpose': None, 'funded_by': None, 'instances_represent': None, 'recommended_data_splits': None, 'sensitive_data': None, 'preprocessing_description': None, 'variable_info': '   height:   integer.         | Height of the block.\\r\\n   lenght:   integer.     | Length of the block. \\r\\n   area:     integer.    | Area of the block (height * lenght);\\r\\n   eccen:    continuous.  | Eccentricity of the block (lenght / height);\\r\\n   p_black:  continuous.  | Percentage of black pixels within the block (blackpix / area);\\r\\n   p_and:    continuous.        | Percentage of black pixels after the application of the Run Length Smoothing Algorithm (RLSA) (blackand / area);\\r\\n   mean_tr:  continuous.      | Mean number of white-black transitions (blackpix / wb_trans);\\r\\n   blackpix: integer.    | Total number of black pixels in the original bitmap of the block.\\r\\n   blackand: integer.        | Total number of black pixels in the bitmap of the block after the RLSA.\\r\\n   wb_trans: integer.          | Number of white-black transitions in the original bitmap of the block.', 'citation': None}}\n",
            "        name     role        type demographic  \\\n",
            "0     height  Feature     Integer        None   \n",
            "1     length  Feature     Integer        None   \n",
            "2       area  Feature     Integer        None   \n",
            "3      eccen  Feature  Continuous        None   \n",
            "4    p_black  Feature  Continuous        None   \n",
            "5      p_and  Feature  Continuous        None   \n",
            "6    mean_tr  Feature  Continuous        None   \n",
            "7   blackpix  Feature     Integer        None   \n",
            "8   blackand  Feature     Integer        None   \n",
            "9   wb_trans  Feature     Integer        None   \n",
            "10     class   Target     Integer        None   \n",
            "\n",
            "                                          description units missing_values  \n",
            "0                                 Height of the block  None             no  \n",
            "1                                 Length of the block  None             no  \n",
            "2                 Area of the block (height * length)  None             no  \n",
            "3         Eccentricity of the block (length / height)  None             no  \n",
            "4   Percentage of black pixels within the block (b...  None             no  \n",
            "5   Percentage of black pixels after the applicati...  None             no  \n",
            "6   Mean number of white-black transitions (blackp...  None             no  \n",
            "7   Total number of black pixels in the original b...  None             no  \n",
            "8   Total number of black pixels in the bitmap of ...  None             no  \n",
            "9   Number of white-black transitions in the origi...  None             no  \n",
            "10                                               None  None             no  \n"
          ]
        }
      ]
    },
    {
      "cell_type": "code",
      "source": [
        "import pandas as pd\n",
        "\n",
        "# Create data.frame\n",
        "df = pd.concat([X, y], axis=1)\n",
        "df.info()"
      ],
      "metadata": {
        "colab": {
          "base_uri": "https://localhost:8080/"
        },
        "id": "AdAgKCcw18Sh",
        "outputId": "dbc30c2d-6ae3-4d73-ef5f-073010736896"
      },
      "execution_count": 61,
      "outputs": [
        {
          "output_type": "stream",
          "name": "stdout",
          "text": [
            "<class 'pandas.core.frame.DataFrame'>\n",
            "RangeIndex: 5473 entries, 0 to 5472\n",
            "Data columns (total 11 columns):\n",
            " #   Column    Non-Null Count  Dtype  \n",
            "---  ------    --------------  -----  \n",
            " 0   height    5473 non-null   int64  \n",
            " 1   length    5473 non-null   int64  \n",
            " 2   area      5473 non-null   int64  \n",
            " 3   eccen     5473 non-null   float64\n",
            " 4   p_black   5473 non-null   float64\n",
            " 5   p_and     5473 non-null   float64\n",
            " 6   mean_tr   5473 non-null   float64\n",
            " 7   blackpix  5473 non-null   int64  \n",
            " 8   blackand  5473 non-null   int64  \n",
            " 9   wb_trans  5473 non-null   int64  \n",
            " 10  class     5473 non-null   int64  \n",
            "dtypes: float64(4), int64(7)\n",
            "memory usage: 470.5 KB\n"
          ]
        }
      ]
    },
    {
      "cell_type": "code",
      "source": [
        "# Periksa isi kolom class\n",
        "\n",
        "print(df['class'].unique())"
      ],
      "metadata": {
        "colab": {
          "base_uri": "https://localhost:8080/"
        },
        "id": "cb5UOMUB2Ga-",
        "outputId": "71e91c55-8f78-475c-8b21-f05b69e02252"
      },
      "execution_count": 62,
      "outputs": [
        {
          "output_type": "stream",
          "name": "stdout",
          "text": [
            "[1 2 4 5 3]\n"
          ]
        }
      ]
    },
    {
      "cell_type": "code",
      "source": [
        "# Hitung nilai shannon entropy dari masing-masing variabel\n",
        "\n",
        "import numpy as np\n",
        "\n",
        "def shannon_entropy(data):\n",
        "  \"\"\"Hitung nilai Shannon entropy dari data.\n",
        "\n",
        "  Args:\n",
        "    data: Data yang akan dihitung entropy-nya.\n",
        "\n",
        "  Returns:\n",
        "    Nilai Shannon entropy.\n",
        "  \"\"\"\n",
        "  value, counts = np.unique(data, return_counts=True)\n",
        "  probabilities = counts / counts.sum()\n",
        "  entropy = -np.sum(probabilities * np.log2(probabilities))\n",
        "  return entropy\n",
        "\n",
        "# Hitung entropy untuk setiap kolom\n",
        "for column in df.columns:\n",
        "  entropy = shannon_entropy(df[column])\n",
        "  print(f\"Shannon entropy untuk variabel '{column}': {entropy}\")"
      ],
      "metadata": {
        "colab": {
          "base_uri": "https://localhost:8080/"
        },
        "id": "LeQ8Ov8L2Pg_",
        "outputId": "5d663abd-583f-4f07-b051-629f28e4fc9b"
      },
      "execution_count": 63,
      "outputs": [
        {
          "output_type": "stream",
          "name": "stdout",
          "text": [
            "Shannon entropy untuk variabel 'height': 3.8086700476437265\n",
            "Shannon entropy untuk variabel 'length': 7.567619278325599\n",
            "Shannon entropy untuk variabel 'area': 9.430987836447464\n",
            "Shannon entropy untuk variabel 'eccen': 9.50189834043902\n",
            "Shannon entropy untuk variabel 'p_black': 8.819481331477856\n",
            "Shannon entropy untuk variabel 'p_and': 8.481449746114148\n",
            "Shannon entropy untuk variabel 'mean_tr': 8.50236241340674\n",
            "Shannon entropy untuk variabel 'blackpix': 8.920098701308842\n",
            "Shannon entropy untuk variabel 'blackand': 9.980625685906928\n",
            "Shannon entropy untuk variabel 'wb_trans': 7.845827416365102\n",
            "Shannon entropy untuk variabel 'class': 0.6354628258660037\n"
          ]
        }
      ]
    },
    {
      "cell_type": "code",
      "source": [
        "# Normalisasi nilai Shannon entropy\n",
        "normalized_entropies = []\n",
        "for column in df.columns:\n",
        "  entropy = shannon_entropy(df[column])\n",
        "  n = len(df[column])  # Panjang data dalam kolom\n",
        "  normalized_entropy = entropy / np.log2(n) if np.log2(n) != 0 else 0  # Normalisasi dengan log2(n)\n",
        "\n",
        "  normalized_entropies.append(normalized_entropy)\n",
        "\n",
        "\n",
        "average_normalized_entropy = np.mean(normalized_entropies)\n",
        "print(f\"\\nRata-rata Normalized Shannon Entropy: {average_normalized_entropy}\")"
      ],
      "metadata": {
        "colab": {
          "base_uri": "https://localhost:8080/"
        },
        "id": "Qgmqj6uw2Xz_",
        "outputId": "9738ee1a-d07b-45a4-bf81-018f3fe249d8"
      },
      "execution_count": 64,
      "outputs": [
        {
          "output_type": "stream",
          "name": "stdout",
          "text": [
            "\n",
            "Rata-rata Normalized Shannon Entropy: 0.6112366413558321\n"
          ]
        }
      ]
    },
    {
      "cell_type": "code",
      "source": [
        "# Seleksi fitur dalam df dengan chi-squared\n",
        "\n",
        "from sklearn.feature_selection import chi2\n",
        "\n",
        "# Pisahkan fitur (X) dan target (y)\n",
        "X = df.drop('class', axis=1)  # mengambil semua kolom kecuali variabel class\n",
        "y = df['class']\n",
        "\n",
        "# Hitung statistik chi-squared dan p-value\n",
        "chi2_scores, p_values = chi2(X, y)\n",
        "\n",
        "# Buat DataFrame untuk menyimpan hasil\n",
        "results = pd.DataFrame({'Feature': X.columns, 'Chi2 Score': chi2_scores, 'P-value': p_values})\n",
        "\n",
        "# Urutkan berdasarkan Chi2 Score (dari yang terbesar)\n",
        "results = results.sort_values('Chi2 Score', ascending=False)\n",
        "\n",
        "# Tampilkan hasil\n",
        "print(results)\n",
        "\n",
        "# Simpan fitur dengan skor Chi2 di atas threshold\n",
        "threshold = 10  # nilai ambang batas\n",
        "selected_features_chi = results[results['Chi2 Score'] > threshold]['Feature'].tolist()\n",
        "\n",
        "print(f\"\\nFitur yang terpilih menggunakan chi-squared: {selected_features_chi}\")"
      ],
      "metadata": {
        "colab": {
          "base_uri": "https://localhost:8080/"
        },
        "id": "TOgxzvjBWzU7",
        "outputId": "bc831a63-eecd-424a-e1b5-249384f5887f"
      },
      "execution_count": 67,
      "outputs": [
        {
          "output_type": "stream",
          "name": "stdout",
          "text": [
            "    Feature    Chi2 Score       P-value\n",
            "2      area  1.666104e+07  0.000000e+00\n",
            "7  blackpix  7.249989e+06  0.000000e+00\n",
            "8  blackand  6.460088e+06  0.000000e+00\n",
            "9  wb_trans  1.293638e+05  0.000000e+00\n",
            "3     eccen  1.110086e+05  0.000000e+00\n",
            "6   mean_tr  1.022354e+05  0.000000e+00\n",
            "0    height  4.546258e+04  0.000000e+00\n",
            "1    length  1.906412e+04  0.000000e+00\n",
            "4   p_black  1.582963e+02  3.390714e-33\n",
            "5     p_and  1.985897e+01  5.324514e-04\n",
            "\n",
            "Fitur yang terpilih menggunakan chi-squared: ['area', 'blackpix', 'blackand', 'wb_trans', 'eccen', 'mean_tr', 'height', 'length', 'p_black', 'p_and']\n"
          ]
        }
      ]
    },
    {
      "cell_type": "code",
      "source": [
        "# Seleksi fitur dalam df dengan Random Forest\n",
        "\n",
        "from sklearn.ensemble import RandomForestClassifier\n",
        "from sklearn.feature_selection import SelectFromModel\n",
        "\n",
        "# Pisahkan fitur (X) dan target (y)\n",
        "X = df.drop('class', axis=1)  # mengambil semua kolom kecuali variabel class\n",
        "y = df['class']\n",
        "\n",
        "# Inisialisasi model Random Forest\n",
        "rf_model = RandomForestClassifier(n_estimators=100, random_state=42)\n",
        "\n",
        "# Latih model Random Forest\n",
        "rf_model.fit(X, y)\n",
        "\n",
        "# Seleksi fitur menggunakan SelectFromModel\n",
        "selector = SelectFromModel(estimator=rf_model, threshold='median') # threshold dengan median\n",
        "selector.fit(X, y)\n",
        "\n",
        "# Simpan fitur-fitur yang terpilih\n",
        "selected_features_rf = X.columns[selector.get_support()]\n",
        "\n",
        "print(f\"Fitur yang terpilih menggunakan Random Forest: {selected_features_rf.tolist()}\")"
      ],
      "metadata": {
        "colab": {
          "base_uri": "https://localhost:8080/"
        },
        "id": "Ok9Z5WatXOYw",
        "outputId": "439a7410-61c4-422b-a63b-28f37a44ba31"
      },
      "execution_count": 68,
      "outputs": [
        {
          "output_type": "stream",
          "name": "stdout",
          "text": [
            "Fitur yang terpilih menggunakan Random Forest: ['height', 'eccen', 'p_black', 'mean_tr', 'wb_trans']\n"
          ]
        }
      ]
    },
    {
      "cell_type": "code",
      "source": [
        "# Klasifikasi dengan model XGBoost untuk selected_features_chi\n",
        "\n",
        "from sklearn.model_selection import train_test_split\n",
        "from xgboost import XGBClassifier\n",
        "from sklearn.metrics import accuracy_score, classification_report\n",
        "\n",
        "# Mengambil fitur dari chi-squared\n",
        "selected_features = selected_features_chi\n",
        "X_selected = X[selected_features]\n",
        "\n",
        "# Ubah nilai y menjadi 0 dan 1\n",
        "y = np.where(y == 1, 0, 1)\n",
        "\n",
        "# Bagi data menjadi data latih dan data uji\n",
        "X_train, X_test, y_train, y_test = train_test_split(X_selected, y, test_size=0.2, random_state=42)\n",
        "\n",
        "# Inisialisasi model XGBoost\n",
        "model = XGBClassifier()\n",
        "\n",
        "# Latih model dengan training data\n",
        "model.fit(X_train, y_train)\n",
        "\n",
        "# Lakukan prediksi dengan test data\n",
        "y_pred = model.predict(X_test)\n",
        "\n",
        "# Evaluasi performa model\n",
        "# accuracy = accuracy_score(y_test, y_pred)\n",
        "print(\"Hasil Cofusion Matrix Chi-Squared dan XGB:\")\n",
        "print(classification_report(y_test, y_pred))"
      ],
      "metadata": {
        "colab": {
          "base_uri": "https://localhost:8080/"
        },
        "id": "IN4SpmZMXbME",
        "outputId": "61fcdbaa-53a9-486d-80c1-226c062792f0"
      },
      "execution_count": 69,
      "outputs": [
        {
          "output_type": "stream",
          "name": "stdout",
          "text": [
            "Hasil Cofusion Matrix Chi-Squared dan XGB:\n",
            "              precision    recall  f1-score   support\n",
            "\n",
            "           0       0.99      0.98      0.98       979\n",
            "           1       0.84      0.89      0.87       116\n",
            "\n",
            "    accuracy                           0.97      1095\n",
            "   macro avg       0.92      0.93      0.92      1095\n",
            "weighted avg       0.97      0.97      0.97      1095\n",
            "\n"
          ]
        }
      ]
    },
    {
      "cell_type": "code",
      "source": [
        "# Klasifikasi dengan model Naive Bayes untuk selected_features_chi\n",
        "\n",
        "from sklearn.naive_bayes import GaussianNB\n",
        "\n",
        "# Mengambil fitur dari chi-squared\n",
        "selected_features = selected_features_chi\n",
        "X_selected = X[selected_features]\n",
        "\n",
        "# Bagi data menjadi data latih dan data uji\n",
        "X_train, X_test, y_train, y_test = train_test_split(X_selected, y, test_size=0.2, random_state=42)\n",
        "\n",
        "# Inisialisasi model Naive Bayes\n",
        "model = GaussianNB()\n",
        "\n",
        "# Latih model dengan training data\n",
        "model.fit(X_train, y_train)\n",
        "\n",
        "# Lakukan prediksi dengan test data\n",
        "y_pred = model.predict(X_test)\n",
        "\n",
        "# Evaluasi performa model\n",
        "# accuracy = accuracy_score(y_test, y_pred)\n",
        "print(\"Hasil Cofusion Matrix Chi-Squared dan NB:\")\n",
        "print(classification_report(y_test, y_pred))"
      ],
      "metadata": {
        "colab": {
          "base_uri": "https://localhost:8080/"
        },
        "id": "-SDwSonpXeby",
        "outputId": "8a55823f-3332-4922-e7bf-0f3ed44b6b80"
      },
      "execution_count": 70,
      "outputs": [
        {
          "output_type": "stream",
          "name": "stdout",
          "text": [
            "Hasil Cofusion Matrix Chi-Squared dan NB:\n",
            "              precision    recall  f1-score   support\n",
            "\n",
            "           0       0.94      0.95      0.94       979\n",
            "           1       0.52      0.49      0.50       116\n",
            "\n",
            "    accuracy                           0.90      1095\n",
            "   macro avg       0.73      0.72      0.72      1095\n",
            "weighted avg       0.90      0.90      0.90      1095\n",
            "\n"
          ]
        }
      ]
    }
  ]
}